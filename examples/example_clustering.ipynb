{
 "cells": [
  {
   "cell_type": "code",
   "execution_count": 1,
   "metadata": {},
   "outputs": [
    {
     "name": "stdout",
     "output_type": "stream",
     "text": [
      "interClusLib Path: /Users/jiashuchen/Desktop/InterClusLib/examples/../interClusLib/__init__.py\n",
      "\n",
      " Random Interval Data:\n",
      "    feature_1_lower  feature_1_upper  feature_2_lower  feature_2_upper  \\\n",
      "0         81.972086        90.020053        18.728449        23.149681   \n",
      "1         30.388788        50.931556        17.133807        85.233162   \n",
      "2         13.553807        58.009401        16.078270        22.778817   \n",
      "3         86.620761        92.989143        13.177564        83.354473   \n",
      "4         50.779911        97.697441        48.816820        66.466235   \n",
      "5         45.680203        57.000582         1.923598         3.903647   \n",
      "6         17.249056        46.933856        16.554008        50.772754   \n",
      "7          5.011306        84.073138        34.354617        75.831661   \n",
      "8         14.313389        23.411218        60.765255        84.291321   \n",
      "9          3.695918        39.234848        22.466947        70.004770   \n",
      "10         9.846493        53.400388         5.249221        96.918628   \n",
      "11        41.177998        64.702941        24.865641        75.266914   \n",
      "12        43.983318        57.566506        53.118911        69.189557   \n",
      "13        47.140472        78.074606        13.080145        31.657324   \n",
      "14        56.255383        69.750007        54.351612        98.278115   \n",
      "15        31.636160        67.921726        64.473956        73.901169   \n",
      "16        46.087339        68.329085        36.038538        52.920475   \n",
      "17        57.534642        77.549038        85.330985        87.053081   \n",
      "18        14.168175        35.296282        14.721329        69.906704   \n",
      "19        72.315333        86.295689        11.764153        47.427763   \n",
      "20        52.520494        68.084801        69.372537        84.796450   \n",
      "21        21.144994        53.372295         9.508859        57.295444   \n",
      "22        29.412313        38.424841         2.222655        95.480832   \n",
      "23        41.090525        91.689444        29.821458        98.115632   \n",
      "24         3.459218        96.234832        49.110096        87.674726   \n",
      "25        37.290874        84.664007        23.306336        33.250708   \n",
      "26        38.133407        44.344809         4.168698        76.721335   \n",
      "27        23.219822        52.152849        42.867640        52.308595   \n",
      "28         6.712193        51.477021         1.224933        66.834050   \n",
      "29        11.841534        97.699813         3.509477        95.438275   \n",
      "\n",
      "    feature_3_lower  feature_3_upper  \n",
      "0         18.254104        27.187465  \n",
      "1          7.040501        48.029646  \n",
      "2         57.573539        77.211833  \n",
      "3          4.780477         9.126424  \n",
      "4         26.894255        83.000245  \n",
      "5         14.960251        85.564172  \n",
      "6         18.177940        69.794022  \n",
      "7         67.125061        85.210243  \n",
      "8         78.759417        90.588864  \n",
      "9         71.693098        75.275821  \n",
      "10        83.404454        95.877271  \n",
      "11        23.359623        36.025434  \n",
      "12        51.739023        66.853338  \n",
      "13         8.274310        35.807787  \n",
      "14         3.191828        15.592375  \n",
      "15        19.480608        79.778754  \n",
      "16        23.503596        84.148911  \n",
      "17        78.845375        89.994246  \n",
      "18        69.111930        88.455128  \n",
      "19        10.869856        95.148089  \n",
      "20        66.116755        89.385846  \n",
      "21        28.611213        33.755078  \n",
      "22        23.220459        79.395383  \n",
      "23        34.849084        62.781139  \n",
      "24         7.271519        12.333939  \n",
      "25         8.371237        37.499592  \n",
      "26         9.841766        57.068776  \n",
      "27        37.743224        92.456244  \n",
      "28         1.793612        72.758849  \n",
      "29        27.717409        51.061859  \n",
      "Data Summary:\n",
      "       feature_1_lower  feature_1_upper  feature_2_lower  feature_2_upper  \\\n",
      "count        30.000000        30.000000        30.000000        30.000000   \n",
      "mean         34.474530        65.911074        28.270217        67.207410   \n",
      "std          22.894807        20.772796        23.077399        25.064574   \n",
      "min           3.459218        23.411218         1.224933         3.903647   \n",
      "25%          14.204479        51.645978        12.093151        52.461565   \n",
      "50%          34.463517        66.312333        20.597698        71.952969   \n",
      "75%          46.877189        84.516290        47.329525        85.123984   \n",
      "max          86.620761        97.699813        85.330985        98.278115   \n",
      "\n",
      "       feature_3_lower  feature_3_upper  \n",
      "count        30.000000        30.000000  \n",
      "mean         32.752517        64.238892  \n",
      "std          26.473783        26.943679  \n",
      "min           1.793612         9.126424  \n",
      "25%          10.098788        40.132106  \n",
      "50%          23.431609        74.017335  \n",
      "75%          56.114910        85.475690  \n",
      "max          83.404454        95.877271  \n",
      "\n",
      "Detected interval columns:\n",
      "- feature_1_lower / feature_1_upper\n",
      "- feature_2_lower / feature_2_upper\n",
      "- feature_3_lower / feature_3_upper\n"
     ]
    }
   ],
   "source": [
    "import numpy as np\n",
    "import pandas as pd\n",
    "import sys\n",
    "import os\n",
    "import matplotlib.pyplot as plt\n",
    "import matplotlib.patches as patches\n",
    "from mpl_toolkits.mplot3d.art3d import Poly3DCollection\n",
    "\n",
    "# 获取当前目录\n",
    "current_dir = os.getcwd()  \n",
    "\n",
    "# 添加 `interClusLib` 的上级目录到 Python 路径\n",
    "sys.path.append(os.path.join(current_dir, \"..\"))\n",
    "\n",
    "import interClusLib\n",
    "from interClusLib.data_structure import IntervalData\n",
    "from interClusLib.similarity_distance import IntervalMetrics\n",
    "from interClusLib.interval_clustering import *\n",
    "from interClusLib.visualization import ClusteringVisualization\n",
    "\n",
    "print(\"interClusLib Path:\", interClusLib.__file__)\n",
    "\n",
    "random_data = IntervalData.random_data(30, 3)\n",
    "print(\"\\n Random Interval Data:\")\n",
    "print(random_data.data)\n",
    "random_data.summary()"
   ]
  },
  {
   "cell_type": "code",
   "execution_count": 13,
   "metadata": {},
   "outputs": [
    {
     "name": "stdout",
     "output_type": "stream",
     "text": [
      "[1 2 6 0 3 6 2 5 5 5 5 2 3 1 0 3 3 4 5 1 4 2 2 7 0 1 2 2 2 7]\n"
     ]
    }
   ],
   "source": [
    "model = IntervalAgglomerativelustering(n_clusters=8, linkage='complete')\n",
    "\n",
    "model.fit(random_data.get_intervals(),metric='hausdorff',aggregate='mean')\n",
    "\n",
    "print(model.get_labels())"
   ]
  },
  {
   "cell_type": "code",
   "execution_count": 14,
   "metadata": {},
   "outputs": [
    {
     "data": {
      "image/png": "[encoded data removed]",
      "text/plain": [
       "<Figure size 800x600 with 1 Axes>"
      ]
     },
     "metadata": {},
     "output_type": "display_data"
    }
   ],
   "source": [
    "plt.figure(figsize=(8, 6))\n",
    "ClusteringVisualization.plot_dendrogram(model.model_)\n",
    "plt.title(\"Hierarchical Clustering Dendrogram\")\n",
    "# plot the top three levels of the dendrogram\n",
    "plt.xlabel(\"samples\")\n",
    "plt.show()"
   ]
  }
 ],
 "metadata": {
  "kernelspec": {
   "display_name": "Python 3",
   "language": "python",
   "name": "python3"
  },
  "language_info": {
   "codemirror_mode": {
    "name": "ipython",
    "version": 3
   },
   "file_extension": ".py",
   "mimetype": "text/x-python",
   "name": "python",
   "nbconvert_exporter": "python",
   "pygments_lexer": "ipython3",
   "version": "3.11.1"
  }
 },
 "nbformat": 4,
 "nbformat_minor": 2
}
