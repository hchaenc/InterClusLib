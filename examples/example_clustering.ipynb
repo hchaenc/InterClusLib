{
 "cells": [
  {
   "cell_type": "code",
   "execution_count": 1,
   "metadata": {},
   "outputs": [
    {
     "name": "stdout",
     "output_type": "stream",
     "text": [
      "interClusLib Path: /Users/jiashuchen/Desktop/InterClusLib/examples/../interClusLib/__init__.py\n",
      "\n",
      " Random Interval Data:\n",
      "    feature_1_lower  feature_1_upper  feature_2_lower  feature_2_upper  \\\n",
      "0         67.914088        71.928527        20.698588        82.384005   \n",
      "1          0.428047         3.320633        45.325606        56.378644   \n",
      "2          7.943709        86.518084        16.678557        65.692579   \n",
      "3         65.271674        90.847954        76.172393        92.924667   \n",
      "4         72.168704        89.896754        60.436120        88.635456   \n",
      "5         34.808832        85.227231        54.561478        81.278722   \n",
      "6          2.441453        30.443611        47.042586        52.191378   \n",
      "7         66.251806        87.597275        60.331312        92.694437   \n",
      "8         66.206129        66.702127         2.447809        78.431464   \n",
      "9          2.645645        38.469339        31.436232        49.754193   \n",
      "10        62.381730        89.936452        44.401573        93.017424   \n",
      "11        11.964140        77.603647        26.107487        79.965565   \n",
      "12        70.864463        98.706392        23.248540        51.899289   \n",
      "13        28.226340        98.424424        53.879461        71.739081   \n",
      "14         1.078487         7.280377        48.080194        96.667705   \n",
      "15        30.742913        67.843344        54.921488        74.905643   \n",
      "16         7.103498        44.574983        31.438181        57.471858   \n",
      "17        53.664465        77.282852        54.663673        70.942223   \n",
      "18        67.417636        94.495748         1.454738        57.981829   \n",
      "19        13.816180        47.226430        17.027869        38.407341   \n",
      "20        40.977002        54.344937        10.032257        24.010552   \n",
      "21        57.876574        87.887955        55.761324        85.432650   \n",
      "22        15.019322        33.216363        32.194649        78.247866   \n",
      "23        75.559026        97.944304        23.032843        96.846269   \n",
      "24        14.163126        66.980924        32.744644        83.581452   \n",
      "25         1.162907        51.645821        12.682805        31.637449   \n",
      "26        17.658813        87.736873        43.183440        72.685693   \n",
      "27        19.827618        21.159808         4.090244        36.989992   \n",
      "28        20.483708        39.518803        55.275578        84.020032   \n",
      "29         5.840305        84.570959        13.646972        27.680670   \n",
      "\n",
      "    feature_3_lower  feature_3_upper  \n",
      "0         79.381756        94.454824  \n",
      "1         72.535226        79.603028  \n",
      "2         91.286794        93.255690  \n",
      "3         19.863820        72.543520  \n",
      "4         36.239643        38.131783  \n",
      "5         32.612987        79.616492  \n",
      "6         27.857351        37.649050  \n",
      "7          3.174448        53.300773  \n",
      "8          4.215030        43.928219  \n",
      "9         58.053153        91.019395  \n",
      "10        24.905638        70.060389  \n",
      "11        14.996735        97.546864  \n",
      "12        54.712858        94.186087  \n",
      "13        73.935743        75.391166  \n",
      "14         8.666399         8.853009  \n",
      "15        71.149071        88.094030  \n",
      "16        57.240379        97.622342  \n",
      "17        39.593965        75.953284  \n",
      "18         9.597174        14.236817  \n",
      "19         3.350726        25.060457  \n",
      "20        13.727490        60.258894  \n",
      "21        57.671287        69.295164  \n",
      "22        69.035559        96.654174  \n",
      "23        35.792878        95.106640  \n",
      "24        90.086956        98.451132  \n",
      "25         5.318117        84.706763  \n",
      "26        19.842135        75.525608  \n",
      "27         8.574603         9.280166  \n",
      "28        30.316826        52.439943  \n",
      "29        14.071169        35.971635  \n",
      "Data Summary:\n",
      "       feature_1_lower  feature_1_upper  feature_2_lower  feature_2_upper  \\\n",
      "count        30.000000        30.000000        30.000000        30.000000   \n",
      "mean         33.396945        65.977764        35.099955        68.483204   \n",
      "std          27.209751        28.106541        20.262115        21.559432   \n",
      "min           0.428047         3.320633         1.454738        24.010552   \n",
      "25%           8.948817        45.237845        17.945549        53.238195   \n",
      "50%          24.355024        74.605690        32.469647        73.795668   \n",
      "75%          64.549188        87.850184        54.390973        83.910387   \n",
      "max          75.559026        98.706392        76.172393        96.846269   \n",
      "\n",
      "       feature_3_lower  feature_3_upper  \n",
      "count        30.000000        30.000000  \n",
      "mean         37.593531        66.939911  \n",
      "std          28.237374        28.481137  \n",
      "min           3.174448         8.853009  \n",
      "25%          13.813409        46.056150  \n",
      "50%          31.464906        75.458387  \n",
      "75%          57.957687        92.696616  \n",
      "max          91.286794        98.451132  \n",
      "\n",
      "Detected interval columns:\n",
      "- feature_1_lower / feature_1_upper\n",
      "- feature_2_lower / feature_2_upper\n",
      "- feature_3_lower / feature_3_upper\n"
     ]
    }
   ],
   "source": [
    "import numpy as np\n",
    "import pandas as pd\n",
    "import sys\n",
    "import os\n",
    "import matplotlib.pyplot as plt\n",
    "import matplotlib.patches as patches\n",
    "from mpl_toolkits.mplot3d.art3d import Poly3DCollection\n",
    "\n",
    "# 获取当前目录\n",
    "current_dir = os.getcwd()  \n",
    "\n",
    "# 添加 `interClusLib` 的上级目录到 Python 路径\n",
    "sys.path.append(os.path.join(current_dir, \"..\"))\n",
    "\n",
    "import interClusLib\n",
    "from interClusLib.IntervalData import IntervalData\n",
    "from interClusLib.visualization.Dendrogram import Dendrogram\n",
    "from interClusLib.evaluation.SilhouetteScore import *\n",
    "from interClusLib.evaluation.DunnIndex import *\n",
    "from interClusLib.clustering.IntervalAgglomerativeClustering import IntervalAgglomerativeClustering\n",
    "from interClusLib.clustering.IntervalSOM import IntervalSOM\n",
    "from interClusLib.clustering.IntervalFuzzyCMeans import IntervalFuzzyCMeans\n",
    "from interClusLib.metric import *\n",
    "\n",
    "print(\"interClusLib Path:\", interClusLib.__file__)\n",
    "\n",
    "random_data = IntervalData.random_data(30, 3)\n",
    "print(\"\\n Random Interval Data:\")\n",
    "print(random_data.data)\n",
    "random_data.summary()"
   ]
  },
  {
   "cell_type": "code",
   "execution_count": 2,
   "metadata": {},
   "outputs": [
    {
     "name": "stdout",
     "output_type": "stream",
     "text": [
      "[2 3 2 1 1 2 0 1 1 3 1 2 2 2 0 2 3 2 1 0 0 2 3 2 2 0 2 0 0 0]\n",
      "0.21382709219155963\n"
     ]
    }
   ],
   "source": [
    "model = IntervalAgglomerativeClustering(n_clusters=4, linkage='complete')\n",
    "\n",
    "model.fit(random_data.get_intervals())\n",
    "\n",
    "print(model.get_labels())\n",
    "\n",
    "print(silhouette_score(random_data.get_intervals(),model.get_labels(),metric='euclidean'))"
   ]
  },
  {
   "cell_type": "code",
   "execution_count": 3,
   "metadata": {},
   "outputs": [
    {
     "data": {
      "image/png": "[encoded data removed]",
      "text/plain": [
       "<Figure size 800x600 with 1 Axes>"
      ]
     },
     "metadata": {},
     "output_type": "display_data"
    }
   ],
   "source": [
    "plt.figure(figsize=(8, 6))\n",
    "Dendrogram.plot_dendrogram(model.model_)\n",
    "plt.title(\"Hierarchical Clustering Dendrogram\")\n",
    "# plot the top three levels of the dendrogram\n",
    "plt.xlabel(\"samples\")\n",
    "plt.show()"
   ]
  },
  {
   "cell_type": "code",
   "execution_count": 4,
   "metadata": {},
   "outputs": [
    {
     "data": {
      "text/plain": [
       "array([[0.30496728, 0.27550312, 0.08813393, 0.33139567],\n",
       "       [0.20043194, 0.6407785 , 0.11519227, 0.0435973 ],\n",
       "       [0.33736036, 0.4210752 , 0.14179839, 0.09976605],\n",
       "       [0.08885998, 0.03893259, 0.02849401, 0.84371342],\n",
       "       [0.12232109, 0.04962622, 0.04675528, 0.7812974 ],\n",
       "       [0.67855278, 0.09442567, 0.04213257, 0.18488897],\n",
       "       [0.205407  , 0.34472275, 0.3846565 , 0.06521375],\n",
       "       [0.07049274, 0.0276772 , 0.03183099, 0.86999907],\n",
       "       [0.19253971, 0.13896318, 0.32213834, 0.34635877],\n",
       "       [0.07974617, 0.84016139, 0.06309602, 0.01699643],\n",
       "       [0.04484095, 0.01384813, 0.00952868, 0.93178224],\n",
       "       [0.49540084, 0.26047168, 0.13165721, 0.11247027],\n",
       "       [0.24611094, 0.27632778, 0.13159285, 0.34596843],\n",
       "       [0.56780911, 0.218042  , 0.06421935, 0.14992954],\n",
       "       [0.29685627, 0.27196849, 0.30160876, 0.12956649],\n",
       "       [0.60575627, 0.25887085, 0.04619691, 0.08917596],\n",
       "       [0.06218909, 0.89288332, 0.03326487, 0.01166272],\n",
       "       [0.49755371, 0.10917686, 0.04540893, 0.34786049],\n",
       "       [0.14251534, 0.10463467, 0.34159183, 0.41125816],\n",
       "       [0.02121584, 0.0332877 , 0.93409083, 0.01140563],\n",
       "       [0.12175278, 0.13675274, 0.63481669, 0.10667779],\n",
       "       [0.21997434, 0.07066604, 0.02721132, 0.6821483 ],\n",
       "       [0.19138082, 0.72000908, 0.05431748, 0.03429262],\n",
       "       [0.25852878, 0.14453841, 0.07440803, 0.52252478],\n",
       "       [0.44341333, 0.38907426, 0.08028448, 0.08722794],\n",
       "       [0.13332333, 0.23182054, 0.57513788, 0.05971825],\n",
       "       [0.71805052, 0.12278869, 0.07076438, 0.08839642],\n",
       "       [0.08881035, 0.13337321, 0.724562  , 0.05325444],\n",
       "       [0.39147471, 0.30828515, 0.17295206, 0.12728809],\n",
       "       [0.08044507, 0.07600896, 0.79576279, 0.04778317]])"
      ]
     },
     "execution_count": 4,
     "metadata": {},
     "output_type": "execute_result"
    }
   ],
   "source": [
    "model = IntervalFuzzyCMeans(n_clusters=4, max_iter=200,adaptive_weights=True)\n",
    "\n",
    "model.fit(random_data.get_intervals())\n",
    "\n",
    "model.get_membership()"
   ]
  },
  {
   "cell_type": "code",
   "execution_count": 5,
   "metadata": {},
   "outputs": [
    {
     "name": "stdout",
     "output_type": "stream",
     "text": [
      "0.17472945913828017\n",
      "0.23219756241739894\n"
     ]
    }
   ],
   "source": [
    "model.get_crisp_assignments()\n",
    "\n",
    "print(silhouette_score(random_data.get_intervals(),model.get_crisp_assignments(),metric='euclidean'))\n",
    "print(dunn_index(random_data.get_intervals(),model.get_crisp_assignments(),metric='euclidean'))"
   ]
  },
  {
   "cell_type": "code",
   "execution_count": 6,
   "metadata": {},
   "outputs": [],
   "source": [
    "n_dims = random_data.get_intervals().shape[1]\n",
    "\n",
    "som = IntervalSOM(x = 2, y = 2, n_dims = n_dims, sigma_init=2, sigma_final=1, learning_rate=0.5, total_iterations=500, )\n",
    "\n",
    "som.pca_weights_init(random_data.get_intervals())"
   ]
  },
  {
   "cell_type": "code",
   "execution_count": 7,
   "metadata": {},
   "outputs": [
    {
     "name": "stdout",
     "output_type": "stream",
     "text": [
      "Neuron (1, 1) has these sample indices => [0, 3, 4, 5, 7, 10, 12, 13, 17, 21, 23, 26]\n",
      "Neuron (0, 0) has these sample indices => [1, 6, 9, 14, 16, 19, 22, 25, 27, 28, 29]\n",
      "Neuron (0, 1) has these sample indices => [2, 11, 15, 24]\n",
      "Neuron (1, 0) has these sample indices => [8, 18, 20]\n"
     ]
    },
    {
     "data": {
      "text/plain": [
       "0.0"
      ]
     },
     "execution_count": 7,
     "metadata": {},
     "output_type": "execute_result"
    }
   ],
   "source": [
    "som.train_incremental(random_data.get_intervals(), verbose= False)\n",
    "\n",
    "assignments = som.get_neuron_assignments(random_data.get_intervals(), return_indices=True)\n",
    "\n",
    "for neuron_pos, sample_indexes in assignments.items():\n",
    "    print(\"Neuron\", neuron_pos, \"has these sample indices =>\", sample_indexes)\n",
    "\n",
    "som.topographic_error(random_data.get_intervals())\n"
   ]
  },
  {
   "cell_type": "code",
   "execution_count": 8,
   "metadata": {},
   "outputs": [],
   "source": [
    "som_2 = IntervalSOM(x = 2, y = 2, n_dims = n_dims, sigma_init=2, sigma_final=1, learning_rate=0.5, total_iterations=500, )\n",
    "\n",
    "som_2.pca_weights_init(random_data.get_intervals())"
   ]
  },
  {
   "cell_type": "code",
   "execution_count": 9,
   "metadata": {},
   "outputs": [
    {
     "name": "stdout",
     "output_type": "stream",
     "text": [
      "Neuron (1, 1) has these sample indices => [0, 1, 2, 9, 13, 15, 16, 22, 24]\n",
      "Neuron (1, 0) has these sample indices => [3, 4, 5, 7, 10, 12, 17, 21, 23]\n",
      "Neuron (0, 1) has these sample indices => [6, 14, 19, 20, 25, 27, 28, 29]\n",
      "Neuron (0, 0) has these sample indices => [8, 11, 18, 26]\n"
     ]
    },
    {
     "data": {
      "text/plain": [
       "0.0"
      ]
     },
     "execution_count": 9,
     "metadata": {},
     "output_type": "execute_result"
    }
   ],
   "source": [
    "som_2.train_batch(random_data.get_intervals(), verbose= False)\n",
    "\n",
    "assignments = som_2.get_neuron_assignments(random_data.get_intervals(), return_indices=True)\n",
    "\n",
    "for neuron_pos, sample_indexes in assignments.items():\n",
    "    print(\"Neuron\", neuron_pos, \"has these sample indices =>\", sample_indexes)\n",
    "\n",
    "som_2.topographic_error(random_data.get_intervals())"
   ]
  }
 ],
 "metadata": {
  "kernelspec": {
   "display_name": "Python 3",
   "language": "python",
   "name": "python3"
  },
  "language_info": {
   "codemirror_mode": {
    "name": "ipython",
    "version": 3
   },
   "file_extension": ".py",
   "mimetype": "text/x-python",
   "name": "python",
   "nbconvert_exporter": "python",
   "pygments_lexer": "ipython3",
   "version": "3.11.1"
  }
 },
 "nbformat": 4,
 "nbformat_minor": 2
}
