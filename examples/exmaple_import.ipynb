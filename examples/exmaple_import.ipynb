{
 "cells": [
  {
   "cell_type": "code",
   "execution_count": 1,
   "metadata": {},
   "outputs": [],
   "source": [
    "from interClusLib.IntervalData import IntervalData\n",
    "from interClusLib.metric import *\n",
    "from interClusLib.clustering.IntervalKMeans import IntervalKMeans\n",
    "from interClusLib.visualization.HeatMap import HeatMap\n",
    "from interClusLib.visualization.Interval2d import Interval2d\n",
    "from interClusLib.visualization.Interval3d import Interval3d\n",
    "from interClusLib.visualization.IntervalParallelCoordinates import IntervalParallelCoordinates"
   ]
  },
  {
   "cell_type": "code",
   "execution_count": 2,
   "metadata": {},
   "outputs": [
    {
     "name": "stdout",
     "output_type": "stream",
     "text": [
      "Warning: DataFrame contains 85 missing values.\n",
      "feature_T1_lower    13\n",
      "feature_T1_upper    10\n",
      "feature_T2_lower    13\n",
      "feature_T2_upper    13\n",
      "feature_T3_lower    13\n",
      "feature_T3_upper    10\n",
      "feature_T4_lower     7\n",
      "feature_T4_upper     6\n",
      "dtype: int64\n"
     ]
    }
   ],
   "source": [
    "data = IntervalData.from_csv(\"ModifiedChinaTemp.csv\")"
   ]
  },
  {
   "cell_type": "code",
   "execution_count": 3,
   "metadata": {},
   "outputs": [
    {
     "name": "stdout",
     "output_type": "stream",
     "text": [
      "['feature_T1_lower', 'feature_T1_upper', 'feature_T2_lower', 'feature_T2_upper', 'feature_T3_lower', 'feature_T3_upper', 'feature_T4_lower', 'feature_T4_upper']\n",
      "['feature_T1', 'feature_T2', 'feature_T3', 'feature_T4']\n"
     ]
    }
   ],
   "source": [
    "print(data.columns)\n",
    "print(data.features)"
   ]
  }
 ],
 "metadata": {
  "kernelspec": {
   "display_name": "Python 3",
   "language": "python",
   "name": "python3"
  },
  "language_info": {
   "codemirror_mode": {
    "name": "ipython",
    "version": 3
   },
   "file_extension": ".py",
   "mimetype": "text/x-python",
   "name": "python",
   "nbconvert_exporter": "python",
   "pygments_lexer": "ipython3",
   "version": "3.11.1"
  }
 },
 "nbformat": 4,
 "nbformat_minor": 2
}
